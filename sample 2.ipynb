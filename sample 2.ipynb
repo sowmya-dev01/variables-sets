{
 "cells": [
  {
   "cell_type": "markdown",
   "id": "805a3818",
   "metadata": {},
   "source": [
    "### DATA TYPES"
   ]
  },
  {
   "cell_type": "code",
   "execution_count": 2,
   "id": "5bc1ac7b",
   "metadata": {},
   "outputs": [
    {
     "data": {
      "text/plain": [
       "int"
      ]
     },
     "execution_count": 2,
     "metadata": {},
     "output_type": "execute_result"
    }
   ],
   "source": [
    "x=25\n",
    "type(x)"
   ]
  },
  {
   "cell_type": "code",
   "execution_count": 3,
   "id": "ea540ae2",
   "metadata": {},
   "outputs": [
    {
     "data": {
      "text/plain": [
       "float"
      ]
     },
     "execution_count": 3,
     "metadata": {},
     "output_type": "execute_result"
    }
   ],
   "source": [
    "x=9.5\n",
    "type(x)"
   ]
  },
  {
   "cell_type": "code",
   "execution_count": 4,
   "id": "ac3ca0f1",
   "metadata": {},
   "outputs": [
    {
     "data": {
      "text/plain": [
       "str"
      ]
     },
     "execution_count": 4,
     "metadata": {},
     "output_type": "execute_result"
    }
   ],
   "source": [
    "x=\"sowmya\"\n",
    "type(x)"
   ]
  },
  {
   "cell_type": "code",
   "execution_count": 5,
   "id": "dd3110f2",
   "metadata": {},
   "outputs": [
    {
     "data": {
      "text/plain": [
       "bool"
      ]
     },
     "execution_count": 5,
     "metadata": {},
     "output_type": "execute_result"
    }
   ],
   "source": [
    "x=True\n",
    "type(x)\n"
   ]
  },
  {
   "cell_type": "markdown",
   "id": "11c2f182",
   "metadata": {},
   "source": [
    "### VARIABLES"
   ]
  },
  {
   "cell_type": "code",
   "execution_count": 6,
   "id": "902d9ca0",
   "metadata": {},
   "outputs": [
    {
     "data": {
      "text/plain": [
       "('A', 'B')"
      ]
     },
     "execution_count": 6,
     "metadata": {},
     "output_type": "execute_result"
    }
   ],
   "source": [
    "names=\"A\",\"B\"\n",
    "names"
   ]
  },
  {
   "cell_type": "markdown",
   "id": "42f1aaf8",
   "metadata": {},
   "source": [
    "#### Variables should not with a number could be anywhere except beginning"
   ]
  },
  {
   "cell_type": "code",
   "execution_count": 7,
   "id": "3e2c3657",
   "metadata": {},
   "outputs": [
    {
     "ename": "SyntaxError",
     "evalue": "cannot assign to expression here. Maybe you meant '==' instead of '='? (80764794.py, line 1)",
     "output_type": "error",
     "traceback": [
      "\u001b[1;36m  Cell \u001b[1;32mIn[7], line 1\u001b[1;36m\u001b[0m\n\u001b[1;33m    name-list=\"sow\",\"anj\"\u001b[0m\n\u001b[1;37m    ^\u001b[0m\n\u001b[1;31mSyntaxError\u001b[0m\u001b[1;31m:\u001b[0m cannot assign to expression here. Maybe you meant '==' instead of '='?\n"
     ]
    }
   ],
   "source": [
    "name-list=\"sow\",\"anj\"\n",
    "name-list"
   ]
  },
  {
   "cell_type": "code",
   "execution_count": 8,
   "id": "34891685",
   "metadata": {},
   "outputs": [
    {
     "data": {
      "text/plain": [
       "('sow', 'anj')"
      ]
     },
     "execution_count": 8,
     "metadata": {},
     "output_type": "execute_result"
    }
   ],
   "source": [
    "name_lists=\"sow\",\"anj\"\n",
    "name_lists"
   ]
  },
  {
   "cell_type": "markdown",
   "id": "43eb93b4",
   "metadata": {},
   "source": [
    "#### The only allowed special character is underscore(_)"
   ]
  },
  {
   "cell_type": "code",
   "execution_count": 9,
   "id": "ac3fcd31",
   "metadata": {},
   "outputs": [
    {
     "name": "stdout",
     "output_type": "stream",
     "text": [
      "20\n",
      "ECE\n",
      "20\n"
     ]
    }
   ],
   "source": [
    "name=\"SOWMYA\"\n",
    "age=20\n",
    "branch=\"ECE\"\n",
    "print(age)\n",
    "print(branch)\n",
    "print(age)"
   ]
  },
  {
   "cell_type": "markdown",
   "id": "d1a71d2f",
   "metadata": {},
   "source": [
    "#### Variables should not have space\n"
   ]
  },
  {
   "cell_type": "markdown",
   "id": "5bc514e6",
   "metadata": {},
   "source": [
    "### LIST"
   ]
  },
  {
   "cell_type": "code",
   "execution_count": 13,
   "id": "f62e2cf8",
   "metadata": {},
   "outputs": [
    {
     "data": {
      "text/plain": [
       "'sow'"
      ]
     },
     "execution_count": 13,
     "metadata": {},
     "output_type": "execute_result"
    }
   ],
   "source": [
    "my_list=[1,2,3,\"sow\"]\n",
    "my_list[3]"
   ]
  },
  {
   "cell_type": "code",
   "execution_count": 14,
   "id": "76b36253",
   "metadata": {},
   "outputs": [
    {
     "data": {
      "text/plain": [
       "3"
      ]
     },
     "execution_count": 14,
     "metadata": {},
     "output_type": "execute_result"
    }
   ],
   "source": [
    "my_list[2]"
   ]
  },
  {
   "cell_type": "code",
   "execution_count": 15,
   "id": "46899bc9",
   "metadata": {},
   "outputs": [
    {
     "data": {
      "text/plain": [
       "1"
      ]
     },
     "execution_count": 15,
     "metadata": {},
     "output_type": "execute_result"
    }
   ],
   "source": [
    "my_list[-4]"
   ]
  },
  {
   "cell_type": "code",
   "execution_count": 17,
   "id": "e5186968",
   "metadata": {},
   "outputs": [
    {
     "data": {
      "text/plain": [
       "[4, 2, 3, 'sow']"
      ]
     },
     "execution_count": 17,
     "metadata": {},
     "output_type": "execute_result"
    }
   ],
   "source": [
    "my_list[0]=4\n",
    "my_list"
   ]
  },
  {
   "cell_type": "code",
   "execution_count": null,
   "id": "08dac10b",
   "metadata": {
    "collapsed": true
   },
   "outputs": [],
   "source": []
  },
  {
   "cell_type": "markdown",
   "id": "ef704272",
   "metadata": {},
   "source": [
    "#### Elements in the list are separated by comma and enclosed in square brackets"
   ]
  },
  {
   "cell_type": "markdown",
   "id": "92c304bf",
   "metadata": {},
   "source": [
    "#### List is heterogeneous\n"
   ]
  },
  {
   "cell_type": "markdown",
   "id": "f000361c",
   "metadata": {},
   "source": [
    "#### List can have duplicates and list is mutable(can make changes)"
   ]
  },
  {
   "cell_type": "code",
   "execution_count": 18,
   "id": "584e0c0d",
   "metadata": {},
   "outputs": [
    {
     "data": {
      "text/plain": [
       "1"
      ]
     },
     "execution_count": 18,
     "metadata": {},
     "output_type": "execute_result"
    }
   ],
   "source": [
    "my_list=[1,1,1]\n",
    "my_list[2]"
   ]
  },
  {
   "cell_type": "code",
   "execution_count": 19,
   "id": "7516e2d9",
   "metadata": {},
   "outputs": [
    {
     "data": {
      "text/plain": [
       "(1, 2, 3, 4)"
      ]
     },
     "execution_count": 19,
     "metadata": {},
     "output_type": "execute_result"
    }
   ],
   "source": [
    "my_tuple=(1,2,3,4)\n",
    "my_tuple"
   ]
  },
  {
   "cell_type": "code",
   "execution_count": 32,
   "id": "ceb0d1ec",
   "metadata": {},
   "outputs": [
    {
     "data": {
      "text/plain": [
       "3"
      ]
     },
     "execution_count": 32,
     "metadata": {},
     "output_type": "execute_result"
    }
   ],
   "source": [
    "tuple=(1,2,3,4,5,6)\n",
    "tuple[-4]"
   ]
  },
  {
   "cell_type": "code",
   "execution_count": 31,
   "id": "469cb62d",
   "metadata": {},
   "outputs": [
    {
     "data": {
      "text/plain": [
       "4.2"
      ]
     },
     "execution_count": 31,
     "metadata": {},
     "output_type": "execute_result"
    }
   ],
   "source": [
    "sample_tuple=(2.3,4.2)\n",
    "sample_tuple[1]"
   ]
  },
  {
   "cell_type": "markdown",
   "id": "c6f0dddf",
   "metadata": {},
   "source": [
    "#### It is immutable\n",
    "\n",
    "#### Elements are seperated by comma enclosed with parathesis or without any brackets"
   ]
  },
  {
   "cell_type": "markdown",
   "id": "cd989d58",
   "metadata": {},
   "source": [
    "### DICTIONARY"
   ]
  },
  {
   "cell_type": "markdown",
   "id": "49d7695c",
   "metadata": {},
   "source": [
    "#### key value pair\n",
    "\n",
    "#### enclosed with curl brackets{}\n",
    "\n",
    "#### mutable"
   ]
  },
  {
   "cell_type": "code",
   "execution_count": 40,
   "id": "e163ed27",
   "metadata": {},
   "outputs": [
    {
     "data": {
      "text/plain": [
       "{'name': 'sowmya', 'hobbies': ['singing', 'dancing'], 5: 23}"
      ]
     },
     "execution_count": 40,
     "metadata": {},
     "output_type": "execute_result"
    }
   ],
   "source": [
    "dict_1.={'name':\"sowmya\",\"hobbies\":[\"singing\",\"dancing\"],5:23}\n",
    "dict_1."
   ]
  },
  {
   "cell_type": "code",
   "execution_count": 44,
   "id": "44fcc021",
   "metadata": {},
   "outputs": [
    {
     "data": {
      "text/plain": [
       "dict_keys(['name', 'hobbies', 5])"
      ]
     },
     "execution_count": 44,
     "metadata": {},
     "output_type": "execute_result"
    }
   ],
   "source": [
    "dict_1.keys()"
   ]
  },
  {
   "cell_type": "code",
   "execution_count": 45,
   "id": "e74c14d2",
   "metadata": {},
   "outputs": [
    {
     "data": {
      "text/plain": [
       "dict_values(['sowmya', ['singing', 'dancing'], 23])"
      ]
     },
     "execution_count": 45,
     "metadata": {},
     "output_type": "execute_result"
    }
   ],
   "source": [
    "dict_1.values()"
   ]
  },
  {
   "cell_type": "code",
   "execution_count": 49,
   "id": "eab8af94",
   "metadata": {},
   "outputs": [
    {
     "data": {
      "text/plain": [
       "{'name': 'Anjali', 'hobbies': ['singing', 'dancing'], 5: 23}"
      ]
     },
     "execution_count": 49,
     "metadata": {},
     "output_type": "execute_result"
    }
   ],
   "source": [
    "dict_1['name']=\"Anjali\"\n",
    "dict_1"
   ]
  },
  {
   "cell_type": "markdown",
   "id": "d9379efd",
   "metadata": {},
   "source": [
    "### SETS"
   ]
  },
  {
   "cell_type": "code",
   "execution_count": 4,
   "id": "1d3288dc",
   "metadata": {},
   "outputs": [
    {
     "data": {
      "text/plain": [
       "{-1, -2, -3, 1, 2, 3, 'bow', 'sow'}"
      ]
     },
     "execution_count": 4,
     "metadata": {},
     "output_type": "execute_result"
    }
   ],
   "source": [
    "set={1,2,3,\"sow\",\"bow\",-1,-2,-3}\n",
    "set"
   ]
  },
  {
   "cell_type": "code",
   "execution_count": 5,
   "id": "eb066bda",
   "metadata": {},
   "outputs": [
    {
     "data": {
      "text/plain": [
       "{-1, -2, -3, 1, 2, 3, 'anj', 'bow', 'sow'}"
      ]
     },
     "execution_count": 5,
     "metadata": {},
     "output_type": "execute_result"
    }
   ],
   "source": [
    "set.add(\"anj\")\n",
    "set"
   ]
  },
  {
   "cell_type": "code",
   "execution_count": 6,
   "id": "101fc9ab",
   "metadata": {},
   "outputs": [
    {
     "data": {
      "text/plain": [
       "{-1, -2, -3, 1, 2, 3, 'anj', 'sow'}"
      ]
     },
     "execution_count": 6,
     "metadata": {},
     "output_type": "execute_result"
    }
   ],
   "source": [
    "set.remove(\"bow\")\n",
    "set"
   ]
  },
  {
   "cell_type": "markdown",
   "id": "598587ae",
   "metadata": {},
   "source": [
    "#### set does not allow duplicates\n",
    "#### we cannot retrive the set using index\n",
    "#### set is mutable\n"
   ]
  },
  {
   "cell_type": "markdown",
   "id": "1ce6b477",
   "metadata": {},
   "source": [
    "#### set has {}\n",
    "#### ordered first place"
   ]
  },
  {
   "cell_type": "code",
   "execution_count": null,
   "id": "d46a7e1d",
   "metadata": {},
   "outputs": [],
   "source": []
  }
 ],
 "metadata": {
  "kernelspec": {
   "display_name": "Python 3 (ipykernel)",
   "language": "python",
   "name": "python3"
  },
  "language_info": {
   "codemirror_mode": {
    "name": "ipython",
    "version": 3
   },
   "file_extension": ".py",
   "mimetype": "text/x-python",
   "name": "python",
   "nbconvert_exporter": "python",
   "pygments_lexer": "ipython3",
   "version": "3.11.5"
  }
 },
 "nbformat": 4,
 "nbformat_minor": 5
}
